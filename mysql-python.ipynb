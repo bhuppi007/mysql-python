{
 "cells": [
  {
   "cell_type": "code",
   "execution_count": 26,
   "id": "ee87799e",
   "metadata": {},
   "outputs": [],
   "source": [
    "import mysql.connector as connector"
   ]
  },
  {
   "cell_type": "code",
   "execution_count": 38,
   "id": "38d8d85d",
   "metadata": {},
   "outputs": [
    {
     "data": {
      "text/plain": [
       "<mysql.connector.connection.MySQLConnection at 0x23ab2245088>"
      ]
     },
     "execution_count": 38,
     "metadata": {},
     "output_type": "execute_result"
    }
   ],
   "source": [
    "connection = connector.connect(host = \"localhost\", port = \"3306\", user = \"root\", password = \"root\", database = \"mysql\", auth_plugin = \"mysql_native_password\")\n",
    "connection"
   ]
  },
  {
   "cell_type": "code",
   "execution_count": 39,
   "id": "58dc62ff",
   "metadata": {},
   "outputs": [],
   "source": [
    "cursor = connection.cursor()"
   ]
  },
  {
   "cell_type": "code",
   "execution_count": 10,
   "id": "ba48ca7e",
   "metadata": {},
   "outputs": [],
   "source": [
    "# create a table"
   ]
  },
  {
   "cell_type": "code",
   "execution_count": 11,
   "id": "8fc8ed51",
   "metadata": {},
   "outputs": [],
   "source": [
    "cursor.execute(\"CREATE TABLE bhuppi(id integer(10) primary key,name varchar(20), age integer(3))\")"
   ]
  },
  {
   "cell_type": "code",
   "execution_count": 12,
   "id": "c16fa093",
   "metadata": {},
   "outputs": [
    {
     "data": {
      "text/plain": [
       "[('id', b'int', 'NO', 'PRI', None, ''),\n",
       " ('name', b'varchar(20)', 'YES', '', None, ''),\n",
       " ('age', b'int', 'YES', '', None, '')]"
      ]
     },
     "execution_count": 12,
     "metadata": {},
     "output_type": "execute_result"
    }
   ],
   "source": [
    "cursor.execute(\"desc bhuppi\")\n",
    "cursor.fetchall()"
   ]
  },
  {
   "cell_type": "code",
   "execution_count": 13,
   "id": "dc4363c0",
   "metadata": {},
   "outputs": [],
   "source": [
    "# insert into table\n",
    "\n",
    "cursor.execute(\"INSERT INTO bhuppi VALUES(1, 'bhupender', 22)\")\n",
    "cursor.execute(\"INSERT INTO bhuppi VALUES(2, 'ghi', 20)\")\n",
    "cursor.execute(\"INSERT INTO bhuppi VALUES(3, 'jkl', 21)\")\n",
    "cursor.execute(\"INSERT INTO bhuppi VALUES(4, 'def', 23)\")\n",
    "cursor.execute(\"INSERT INTO bhuppi VALUES(5, 'abc', 24)\")"
   ]
  },
  {
   "cell_type": "code",
   "execution_count": 19,
   "id": "6ec4881e",
   "metadata": {},
   "outputs": [
    {
     "data": {
      "text/plain": [
       "[(1, 'bhupender', 22),\n",
       " (2, 'nisha', 20),\n",
       " (3, 'jkl', 21),\n",
       " (4, 'def', 23),\n",
       " (5, 'abc', 24)]"
      ]
     },
     "execution_count": 19,
     "metadata": {},
     "output_type": "execute_result"
    }
   ],
   "source": [
    "# look into the table\n",
    "cursor.execute(\"select * from bhuppi\")\n",
    "cursor.fetchall()"
   ]
  },
  {
   "cell_type": "code",
   "execution_count": 20,
   "id": "ee93eda5",
   "metadata": {},
   "outputs": [],
   "source": [
    "# update command\n",
    "cursor.execute(\"UPDATE bhuppi SET name = '{}' WHERE name = 'ghi'\".format(\"nisha\"))"
   ]
  },
  {
   "cell_type": "code",
   "execution_count": 29,
   "id": "edf72ed8",
   "metadata": {},
   "outputs": [
    {
     "data": {
      "text/plain": [
       "[(1, 'bhupender', 22), (2, 'nisha', 20), (3, 'jkl', 21), (4, 'def', 23)]"
      ]
     },
     "execution_count": 29,
     "metadata": {},
     "output_type": "execute_result"
    }
   ],
   "source": [
    "# delete command\n",
    "cursor.execute(\"DELETE from bhuppi WHERE name = 'abc'\")\n",
    "cursor.execute(\"SELECT * FROM bhuppi\")\n",
    "cursor.fetchall()"
   ]
  },
  {
   "cell_type": "code",
   "execution_count": 40,
   "id": "6d84085c",
   "metadata": {},
   "outputs": [],
   "source": [
    "# connectionc commited changes and closed\n",
    "connection.commit()\n",
    "connection.close()"
   ]
  },
  {
   "cell_type": "code",
   "execution_count": null,
   "id": "7e25401f",
   "metadata": {},
   "outputs": [],
   "source": [
    "### drop table command\n",
    "\n",
    "# cursor.execute(\"DROP table bhuppi\")"
   ]
  },
  {
   "cell_type": "code",
   "execution_count": null,
   "id": "53fba5fe",
   "metadata": {},
   "outputs": [],
   "source": []
  }
 ],
 "metadata": {
  "kernelspec": {
   "display_name": "Python 3",
   "language": "python",
   "name": "python3"
  },
  "language_info": {
   "codemirror_mode": {
    "name": "ipython",
    "version": 3
   },
   "file_extension": ".py",
   "mimetype": "text/x-python",
   "name": "python",
   "nbconvert_exporter": "python",
   "pygments_lexer": "ipython3",
   "version": "3.7.10"
  }
 },
 "nbformat": 4,
 "nbformat_minor": 5
}
