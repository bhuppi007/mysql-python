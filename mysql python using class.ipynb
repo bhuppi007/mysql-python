{
 "cells": [
  {
   "cell_type": "code",
   "execution_count": 1,
   "id": "f43d9c37",
   "metadata": {},
   "outputs": [],
   "source": [
    "# importing connector libraries\n",
    "\n",
    "# !pip install mysql-connector-python\n",
    "\n",
    "import mysql.connector as connector"
   ]
  },
  {
   "cell_type": "code",
   "execution_count": 2,
   "id": "22be3ba7",
   "metadata": {},
   "outputs": [
    {
     "name": "stdout",
     "output_type": "stream",
     "text": [
      "<mysql.connector.connection.MySQLConnection object at 0x000001A3D180DB48>\n"
     ]
    }
   ],
   "source": [
    "# using connection of mysql server with python program, mysql commandline must be installed in the PC\n",
    "\n",
    "connection = connector.connect(host = \"localhost\", port= \"3306\", user = \"root\", password = \"root\", database = \"pythontest\", auth_plugin='mysql_native_password')\n",
    "print(conn)\n",
    "\n",
    "cursor = connection.cursor()\n",
    "# cursor.execute(\"query\") #given a query\n",
    "#cursor.fetchall() # returns from the sql\n",
    "\n",
    "# connection.commit()\n",
    "connection.close()"
   ]
  },
  {
   "cell_type": "code",
   "execution_count": 14,
   "id": "d83fa1ae",
   "metadata": {},
   "outputs": [],
   "source": [
    "#we will use the code by using class\n",
    "\n",
    "class DBHelper:\n",
    "    def __init__(self):\n",
    "        self.con = connector.connect(host = \"localhost\", port= \"3306\", user = \"root\", password = \"root\", database = \"pythontest\", auth_plugin='mysql_native_password')\n",
    "        \n",
    "        query = \"CREATE TABLE IF NOT EXISTS user(userId int primary key, userName varchar(200), phone varchar(12))\"\n",
    "        \n",
    "        # create cursor\n",
    "        c = self.con.cursor()\n",
    "        c.execute(query)\n",
    "        print(\"created\")\n",
    "        self.con.close()\n",
    "        \n",
    "    def insert_user(self, userid, username, phone):\n",
    "        \n",
    "        self.con = connector.connect(host = \"localhost\", port= \"3306\", user = \"root\", password = \"root\", database = \"pythontest\", auth_plugin='mysql_native_password')\n",
    "        query = \"INSERT INTO user values({},'{}','{}')\".format(userid, username, phone)\n",
    "        print(query)\n",
    "        c = self.con.cursor()\n",
    "        c.execute(query)\n",
    "        self.con.commit()\n",
    "        self.con.close()\n",
    "        print(\"user saved to DB\")\n",
    "        \n",
    "        \n",
    "    def fetchall(self):\n",
    "        self.con = connector.connect(host = \"localhost\", port= \"3306\", user = \"root\", password = \"root\", database = \"pythontest\", auth_plugin='mysql_native_password')\n",
    "        query = \"select * from user\"\n",
    "        c = self.con.cursor()\n",
    "        c.execute(query)\n",
    "        \n",
    "        for row in c:\n",
    "            print(\"userid : \", row[0])\n",
    "            print(\"username : \", row[1])\n",
    "            print(\"phone : \", row[2])\n",
    "            print()\n",
    "            print()\n",
    "            \n",
    "    def delete_user(self, userid):\n",
    "        self.con = connector.connect(host = \"localhost\", port= \"3306\", user = \"root\", password = \"root\", database = \"pythontest\", auth_plugin='mysql_native_password')\n",
    "        query = \"delete from user where userid = {}\".format(userid)\n",
    "        print(query)\n",
    "        c = self.con.cursor()\n",
    "        c.execute(query)\n",
    "        print(\"deleted\")\n",
    "        \n",
    "    def update_user(self, userid, newname, newphone):\n",
    "        self.con = connector.connect(host = \"localhost\", port= \"3306\", user = \"root\", password = \"root\", database = \"pythontest\", auth_plugin='mysql_native_password')\n",
    "        query = \"update user set username = '{}', phone = '{}' where userid = {}\".format(newname, newphone, userid)\n",
    "        c = self.con.cursor()\n",
    "        c.execute(query)\n",
    "        print(\"updated\")\n",
    "        "
   ]
  },
  {
   "cell_type": "code",
   "execution_count": 13,
   "id": "d780ea0e",
   "metadata": {},
   "outputs": [
    {
     "name": "stdout",
     "output_type": "stream",
     "text": [
      "created\n",
      "userid :  12\n",
      "username :  abc\n",
      "phone :  2345\n",
      "\n",
      "\n"
     ]
    }
   ],
   "source": [
    "#create table with the help of connection ['con'] using class\n",
    "\n",
    "helper = DBHelper()\n",
    "# helper.insert_user(12,\"abc\", \"2345\")\n",
    "helper.fetchall()\n",
    "# helper.delete_user(12)\n",
    "# helper.update_user(12, \"name\", \"123345\")"
   ]
  },
  {
   "cell_type": "code",
   "execution_count": null,
   "id": "85b48611",
   "metadata": {},
   "outputs": [],
   "source": []
  }
 ],
 "metadata": {
  "kernelspec": {
   "display_name": "Python 3",
   "language": "python",
   "name": "python3"
  },
  "language_info": {
   "codemirror_mode": {
    "name": "ipython",
    "version": 3
   },
   "file_extension": ".py",
   "mimetype": "text/x-python",
   "name": "python",
   "nbconvert_exporter": "python",
   "pygments_lexer": "ipython3",
   "version": "3.7.10"
  }
 },
 "nbformat": 4,
 "nbformat_minor": 5
}
